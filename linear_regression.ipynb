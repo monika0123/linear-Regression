{
  "nbformat": 4,
  "nbformat_minor": 0,
  "metadata": {
    "colab": {
      "name": "linear regression",
      "provenance": [],
      "authorship_tag": "ABX9TyOgk9uuCdbHv8D/Npw/TTwK",
      "include_colab_link": true
    },
    "kernelspec": {
      "name": "python3",
      "display_name": "Python 3"
    }
  },
  "cells": [
    {
      "cell_type": "markdown",
      "metadata": {
        "id": "view-in-github",
        "colab_type": "text"
      },
      "source": [
        "<a href=\"https://colab.research.google.com/github/monika0123/linear-Regression/blob/master/linear_regression.ipynb\" target=\"_parent\"><img src=\"https://colab.research.google.com/assets/colab-badge.svg\" alt=\"Open In Colab\"/></a>"
      ]
    },
    {
      "cell_type": "code",
      "metadata": {
        "id": "-PAiYV4_gZAU",
        "colab_type": "code",
        "colab": {}
      },
      "source": [
        "import numpy as np\n",
        "import matplotlib.pyplot as plt\n",
        "import seaborn as sb\n",
        "import pandas as pd\n",
        "%matplotlib inline"
      ],
      "execution_count": 0,
      "outputs": []
    },
    {
      "cell_type": "code",
      "metadata": {
        "id": "U_OSJ7l20_S_",
        "colab_type": "code",
        "colab": {}
      },
      "source": [
        "#load data for train and test\n",
        "train=pd.read_csv(\"/content/train.csv\")\n",
        "test=pd.read_csv(\"/content/test.csv\")"
      ],
      "execution_count": 0,
      "outputs": []
    },
    {
      "cell_type": "code",
      "metadata": {
        "id": "jaRc3wmO16BZ",
        "colab_type": "code",
        "outputId": "e105df99-59f8-4541-8ce9-8ae40922263c",
        "colab": {
          "base_uri": "https://localhost:8080/",
          "height": 204
        }
      },
      "source": [
        "train.head()"
      ],
      "execution_count": 0,
      "outputs": [
        {
          "output_type": "execute_result",
          "data": {
            "text/html": [
              "<div>\n",
              "<style scoped>\n",
              "    .dataframe tbody tr th:only-of-type {\n",
              "        vertical-align: middle;\n",
              "    }\n",
              "\n",
              "    .dataframe tbody tr th {\n",
              "        vertical-align: top;\n",
              "    }\n",
              "\n",
              "    .dataframe thead th {\n",
              "        text-align: right;\n",
              "    }\n",
              "</style>\n",
              "<table border=\"1\" class=\"dataframe\">\n",
              "  <thead>\n",
              "    <tr style=\"text-align: right;\">\n",
              "      <th></th>\n",
              "      <th>x</th>\n",
              "      <th>y</th>\n",
              "    </tr>\n",
              "  </thead>\n",
              "  <tbody>\n",
              "    <tr>\n",
              "      <th>0</th>\n",
              "      <td>24.0</td>\n",
              "      <td>21.549452</td>\n",
              "    </tr>\n",
              "    <tr>\n",
              "      <th>1</th>\n",
              "      <td>50.0</td>\n",
              "      <td>47.464463</td>\n",
              "    </tr>\n",
              "    <tr>\n",
              "      <th>2</th>\n",
              "      <td>15.0</td>\n",
              "      <td>17.218656</td>\n",
              "    </tr>\n",
              "    <tr>\n",
              "      <th>3</th>\n",
              "      <td>38.0</td>\n",
              "      <td>36.586398</td>\n",
              "    </tr>\n",
              "    <tr>\n",
              "      <th>4</th>\n",
              "      <td>87.0</td>\n",
              "      <td>87.288984</td>\n",
              "    </tr>\n",
              "  </tbody>\n",
              "</table>\n",
              "</div>"
            ],
            "text/plain": [
              "      x          y\n",
              "0  24.0  21.549452\n",
              "1  50.0  47.464463\n",
              "2  15.0  17.218656\n",
              "3  38.0  36.586398\n",
              "4  87.0  87.288984"
            ]
          },
          "metadata": {
            "tags": []
          },
          "execution_count": 28
        }
      ]
    },
    {
      "cell_type": "code",
      "metadata": {
        "id": "2l2ZAmWt2Szc",
        "colab_type": "code",
        "outputId": "8f7b6f43-f61f-4471-e42a-a5172cfddeb9",
        "colab": {
          "base_uri": "https://localhost:8080/",
          "height": 204
        }
      },
      "source": [
        "test.head()"
      ],
      "execution_count": 0,
      "outputs": [
        {
          "output_type": "execute_result",
          "data": {
            "text/html": [
              "<div>\n",
              "<style scoped>\n",
              "    .dataframe tbody tr th:only-of-type {\n",
              "        vertical-align: middle;\n",
              "    }\n",
              "\n",
              "    .dataframe tbody tr th {\n",
              "        vertical-align: top;\n",
              "    }\n",
              "\n",
              "    .dataframe thead th {\n",
              "        text-align: right;\n",
              "    }\n",
              "</style>\n",
              "<table border=\"1\" class=\"dataframe\">\n",
              "  <thead>\n",
              "    <tr style=\"text-align: right;\">\n",
              "      <th></th>\n",
              "      <th>x</th>\n",
              "      <th>y</th>\n",
              "    </tr>\n",
              "  </thead>\n",
              "  <tbody>\n",
              "    <tr>\n",
              "      <th>0</th>\n",
              "      <td>77</td>\n",
              "      <td>79.775152</td>\n",
              "    </tr>\n",
              "    <tr>\n",
              "      <th>1</th>\n",
              "      <td>21</td>\n",
              "      <td>23.177279</td>\n",
              "    </tr>\n",
              "    <tr>\n",
              "      <th>2</th>\n",
              "      <td>22</td>\n",
              "      <td>25.609262</td>\n",
              "    </tr>\n",
              "    <tr>\n",
              "      <th>3</th>\n",
              "      <td>20</td>\n",
              "      <td>17.857388</td>\n",
              "    </tr>\n",
              "    <tr>\n",
              "      <th>4</th>\n",
              "      <td>36</td>\n",
              "      <td>41.849864</td>\n",
              "    </tr>\n",
              "  </tbody>\n",
              "</table>\n",
              "</div>"
            ],
            "text/plain": [
              "    x          y\n",
              "0  77  79.775152\n",
              "1  21  23.177279\n",
              "2  22  25.609262\n",
              "3  20  17.857388\n",
              "4  36  41.849864"
            ]
          },
          "metadata": {
            "tags": []
          },
          "execution_count": 29
        }
      ]
    },
    {
      "cell_type": "code",
      "metadata": {
        "id": "UdvuDtGM3pjC",
        "colab_type": "code",
        "outputId": "97dd3402-5d9f-4318-8740-b710bc07ae37",
        "colab": {
          "base_uri": "https://localhost:8080/",
          "height": 34
        }
      },
      "source": [
        "#shape of train dataset\n",
        "train.shape"
      ],
      "execution_count": 0,
      "outputs": [
        {
          "output_type": "execute_result",
          "data": {
            "text/plain": [
              "(700, 2)"
            ]
          },
          "metadata": {
            "tags": []
          },
          "execution_count": 30
        }
      ]
    },
    {
      "cell_type": "code",
      "metadata": {
        "id": "ofZTBNdu4Ck-",
        "colab_type": "code",
        "outputId": "1302ccfe-e800-4819-b388-a3fe97730c46",
        "colab": {
          "base_uri": "https://localhost:8080/",
          "height": 34
        }
      },
      "source": [
        "# shape of test dataset\n",
        "test.shape"
      ],
      "execution_count": 0,
      "outputs": [
        {
          "output_type": "execute_result",
          "data": {
            "text/plain": [
              "(300, 2)"
            ]
          },
          "metadata": {
            "tags": []
          },
          "execution_count": 31
        }
      ]
    },
    {
      "cell_type": "code",
      "metadata": {
        "id": "Z4jQZQIt4XT6",
        "colab_type": "code",
        "outputId": "a4304bd2-ae06-40b4-99f7-9de3f2a1371d",
        "colab": {
          "base_uri": "https://localhost:8080/",
          "height": 136
        }
      },
      "source": [
        "#check data type of each column\n",
        "train.info()"
      ],
      "execution_count": 0,
      "outputs": [
        {
          "output_type": "stream",
          "text": [
            "<class 'pandas.core.frame.DataFrame'>\n",
            "RangeIndex: 700 entries, 0 to 699\n",
            "Data columns (total 2 columns):\n",
            "x    700 non-null float64\n",
            "y    699 non-null float64\n",
            "dtypes: float64(2)\n",
            "memory usage: 11.1 KB\n"
          ],
          "name": "stdout"
        }
      ]
    },
    {
      "cell_type": "code",
      "metadata": {
        "id": "gnvsQ0Ym4n4C",
        "colab_type": "code",
        "outputId": "ddb109db-6a40-48e3-8dfe-ccc287c7bfbe",
        "colab": {
          "base_uri": "https://localhost:8080/",
          "height": 68
        }
      },
      "source": [
        "#check missing values with 'isnull' command\n",
        "train.isnull().any()"
      ],
      "execution_count": 0,
      "outputs": [
        {
          "output_type": "execute_result",
          "data": {
            "text/plain": [
              "x    False\n",
              "y     True\n",
              "dtype: bool"
            ]
          },
          "metadata": {
            "tags": []
          },
          "execution_count": 33
        }
      ]
    },
    {
      "cell_type": "code",
      "metadata": {
        "id": "NN-sDohg48xK",
        "colab_type": "code",
        "outputId": "82d96a8e-9ed3-40d5-f49a-12e3f4ea3de6",
        "colab": {
          "base_uri": "https://localhost:8080/",
          "height": 34
        }
      },
      "source": [
        "# count how many missing value is in this attributes\n",
        "train['y'].isnull().sum()\n"
      ],
      "execution_count": 0,
      "outputs": [
        {
          "output_type": "execute_result",
          "data": {
            "text/plain": [
              "1"
            ]
          },
          "metadata": {
            "tags": []
          },
          "execution_count": 35
        }
      ]
    },
    {
      "cell_type": "markdown",
      "metadata": {
        "id": "rXCfDZKA50Hs",
        "colab_type": "text"
      },
      "source": [
        "two ways of handling missing values is :\n",
        "1. Remove Rows with missing values\n",
        "2. imputting missing values with mean,median and mode values of the column"
      ]
    },
    {
      "cell_type": "code",
      "metadata": {
        "id": "uoVgSkH-6cRv",
        "colab_type": "code",
        "colab": {}
      },
      "source": [
        "# remove row of with missing values\n",
        "train=train.dropna()"
      ],
      "execution_count": 0,
      "outputs": []
    },
    {
      "cell_type": "code",
      "metadata": {
        "colab_type": "code",
        "outputId": "73391c9f-23f3-4c28-84d3-d71a12550579",
        "id": "IEEdNCUm6oR5",
        "colab": {
          "base_uri": "https://localhost:8080/",
          "height": 68
        }
      },
      "source": [
        "\n",
        "print(train.isnull().any())"
      ],
      "execution_count": 0,
      "outputs": [
        {
          "output_type": "stream",
          "text": [
            "x    False\n",
            "y    False\n",
            "dtype: bool\n"
          ],
          "name": "stdout"
        }
      ]
    },
    {
      "cell_type": "code",
      "metadata": {
        "id": "5WS5w1UE6niZ",
        "colab_type": "code",
        "outputId": "f3d721dd-4c4f-44bd-d1ab-2c8a2fcd8f15",
        "colab": {
          "base_uri": "https://localhost:8080/",
          "height": 269
        }
      },
      "source": [
        "sb.heatmap(train.isnull())\n",
        "plt.show()"
      ],
      "execution_count": 0,
      "outputs": [
        {
          "output_type": "display_data",
          "data": {
            "image/png": "[encoded data removed]",
            "text/plain": [
              "<Figure size 432x288 with 2 Axes>"
            ]
          },
          "metadata": {
            "tags": []
          }
        }
      ]
    },
    {
      "cell_type": "code",
      "metadata": {
        "id": "ehFf77Rc8L0e",
        "colab_type": "code",
        "outputId": "7a433917-7dec-43e6-dd2e-68b47e3effcb",
        "colab": {
          "base_uri": "https://localhost:8080/",
          "height": 297
        }
      },
      "source": [
        "train.describe()"
      ],
      "execution_count": 0,
      "outputs": [
        {
          "output_type": "execute_result",
          "data": {
            "text/html": [
              "<div>\n",
              "<style scoped>\n",
              "    .dataframe tbody tr th:only-of-type {\n",
              "        vertical-align: middle;\n",
              "    }\n",
              "\n",
              "    .dataframe tbody tr th {\n",
              "        vertical-align: top;\n",
              "    }\n",
              "\n",
              "    .dataframe thead th {\n",
              "        text-align: right;\n",
              "    }\n",
              "</style>\n",
              "<table border=\"1\" class=\"dataframe\">\n",
              "  <thead>\n",
              "    <tr style=\"text-align: right;\">\n",
              "      <th></th>\n",
              "      <th>x</th>\n",
              "      <th>y</th>\n",
              "    </tr>\n",
              "  </thead>\n",
              "  <tbody>\n",
              "    <tr>\n",
              "      <th>count</th>\n",
              "      <td>699.000000</td>\n",
              "      <td>699.000000</td>\n",
              "    </tr>\n",
              "    <tr>\n",
              "      <th>mean</th>\n",
              "      <td>50.014306</td>\n",
              "      <td>49.939869</td>\n",
              "    </tr>\n",
              "    <tr>\n",
              "      <th>std</th>\n",
              "      <td>28.954560</td>\n",
              "      <td>29.109217</td>\n",
              "    </tr>\n",
              "    <tr>\n",
              "      <th>min</th>\n",
              "      <td>0.000000</td>\n",
              "      <td>-3.839981</td>\n",
              "    </tr>\n",
              "    <tr>\n",
              "      <th>25%</th>\n",
              "      <td>25.000000</td>\n",
              "      <td>24.929968</td>\n",
              "    </tr>\n",
              "    <tr>\n",
              "      <th>50%</th>\n",
              "      <td>49.000000</td>\n",
              "      <td>48.973020</td>\n",
              "    </tr>\n",
              "    <tr>\n",
              "      <th>75%</th>\n",
              "      <td>75.000000</td>\n",
              "      <td>74.929911</td>\n",
              "    </tr>\n",
              "    <tr>\n",
              "      <th>max</th>\n",
              "      <td>100.000000</td>\n",
              "      <td>108.871618</td>\n",
              "    </tr>\n",
              "  </tbody>\n",
              "</table>\n",
              "</div>"
            ],
            "text/plain": [
              "                x           y\n",
              "count  699.000000  699.000000\n",
              "mean    50.014306   49.939869\n",
              "std     28.954560   29.109217\n",
              "min      0.000000   -3.839981\n",
              "25%     25.000000   24.929968\n",
              "50%     49.000000   48.973020\n",
              "75%     75.000000   74.929911\n",
              "max    100.000000  108.871618"
            ]
          },
          "metadata": {
            "tags": []
          },
          "execution_count": 39
        }
      ]
    },
    {
      "cell_type": "code",
      "metadata": {
        "id": "C4s1-oiC8r8u",
        "colab_type": "code",
        "outputId": "49f85597-e43e-422a-8be0-b6e306e2f10f",
        "colab": {
          "base_uri": "https://localhost:8080/",
          "height": 281
        }
      },
      "source": [
        "train.hist()\n",
        "plt.show()"
      ],
      "execution_count": 0,
      "outputs": [
        {
          "output_type": "display_data",
          "data": {
            "image/png": "[encoded data removed]",
            "text/plain": [
              "<Figure size 432x288 with 2 Axes>"
            ]
          },
          "metadata": {
            "tags": []
          }
        }
      ]
    },
    {
      "cell_type": "code",
      "metadata": {
        "id": "RZMvdC7ZJwAC",
        "colab_type": "code",
        "colab": {}
      },
      "source": [
        "x=train.x.values\n",
        "y=train.y.values"
      ],
      "execution_count": 0,
      "outputs": []
    },
    {
      "cell_type": "code",
      "metadata": {
        "id": "RS96eRyn-iCf",
        "colab_type": "code",
        "colab": {}
      },
      "source": [
        "def mean(num):\n",
        "  return sum(num)/float(len(num))\n",
        "\n",
        "def varience(num,mean):\n",
        "  return sum([abs(x-mean)**2 for x in num])"
      ],
      "execution_count": 0,
      "outputs": []
    },
    {
      "cell_type": "code",
      "metadata": {
        "id": "IYAwkjBqBfzf",
        "colab_type": "code",
        "colab": {}
      },
      "source": [
        "x_mean,y_mean=mean(x),mean(y)\n",
        "x_varience=varience(x,x_mean)\n",
        "y_varience=varience(y,y_mean)"
      ],
      "execution_count": 0,
      "outputs": []
    },
    {
      "cell_type": "code",
      "metadata": {
        "id": "SDoYHuhdNivv",
        "colab_type": "code",
        "colab": {}
      },
      "source": [
        "def covarience(x, x_mean, y, y_mean):\n",
        "    ln = len(x)\n",
        "    cov = 0.0\n",
        "    for i in range(ln):\n",
        "        cov += ((x[i] - x_mean) * (y[i] - y_mean))\n",
        "    return cov"
      ],
      "execution_count": 0,
      "outputs": []
    },
    {
      "cell_type": "code",
      "metadata": {
        "id": "_NWSBGmyONOL",
        "colab_type": "code",
        "colab": {}
      },
      "source": [
        "def coefficients():\n",
        "    m = covarience(x, x_mean, y, y_mean) / varience(x, x_mean)\n",
        "    b = y_mean - (m*x_mean)\n",
        "    return [m,b]"
      ],
      "execution_count": 0,
      "outputs": []
    },
    {
      "cell_type": "code",
      "metadata": {
        "id": "ChY5FzfdOkbS",
        "colab_type": "code",
        "colab": {}
      },
      "source": [
        "x_test = test['x'].values.reshape(-1, 1)\n",
        "y_test = test['y'].values.reshape(-1, 1)"
      ],
      "execution_count": 0,
      "outputs": []
    },
    {
      "cell_type": "code",
      "metadata": {
        "id": "1NwodGH5OpPH",
        "colab_type": "code",
        "colab": {}
      },
      "source": [
        "def simple_linear_regression():\n",
        "    prediction = list()\n",
        "    m, c = coefficients()\n",
        "    for test in x_test:\n",
        "        y_pred = m*test[0] + c\n",
        "        prediction.append(y_pred)\n",
        "    return prediction"
      ],
      "execution_count": 0,
      "outputs": []
    },
    {
      "cell_type": "code",
      "metadata": {
        "id": "MBUDiLZrO2nU",
        "colab_type": "code",
        "colab": {}
      },
      "source": [
        "predict = simple_linear_regression()"
      ],
      "execution_count": 0,
      "outputs": []
    },
    {
      "cell_type": "code",
      "metadata": {
        "id": "klD17IQPO-_8",
        "colab_type": "code",
        "outputId": "eb17914c-2044-480a-a19b-a4b91a3b9c79",
        "colab": {
          "base_uri": "https://localhost:8080/",
          "height": 54
        }
      },
      "source": [
        "print(predict)"
      ],
      "execution_count": 0,
      "outputs": [
        {
          "output_type": "stream",
          "text": [
            "[76.9432759386344, 20.906518554681345, 21.90717493653765, 19.90586217282504, 35.91636428252591, 14.902580263543518, 61.93343021078983, 94.95509081204789, 19.90586217282504, 4.8960164449804715, 3.8953600631241674, 18.905205790968736, 95.95574719390419, 61.93343021078983, 35.91636428252591, 14.902580263543518, 64.93539935635874, 13.901923881687214, 86.94983975719745, 68.93802488378397, 88.95115252091006, 50.92621001037048, 88.95115252091006, 26.910456845819173, 96.95640357576049, 57.93080468336461, 78.944588702347, 20.906518554681345, 92.95377804833528, 26.910456845819173, 98.9577163394731, 30.91308237324439, 32.914395136957, 79.94524508420331, 27.91111322767548, 46.923584482945266, 52.927522774083094, 68.93802488378397, 27.91111322767548, 32.914395136957, 90.95246528462266, 70.93933764749657, 49.92555362851418, 75.9426195567781, 3.8953600631241674, 36.91702066438222, 69.93868126564027, 67.93736850192766, 39.91898980995113, 34.91570790066961, 93.95443443019158, 87.95049613905375, 51.926866392226785, 30.91308237324439, 58.931461065220915, -0.10726546430105088, 38.918333428094826, 63.93474297450244, 68.93802488378397, 56.93014830150831, 12.901267499830908, 71.93999402935287, 75.9426195567781, 60.93277382893353, 81.94655784791593, 17.90454940911243, 40.91964619180744, 49.92555362851418, 54.9288355377957, 12.901267499830908, 45.92292810108896, 12.901267499830908, 78.944588702347, 52.927522774083094, 14.902580263543518, 27.91111322767548, 80.94590146605962, 68.93802488378397, 51.926866392226785, 83.94787061162853, 67.93736850192766, 26.910456845819173, 55.92949191965201, 47.92424086480157, 39.91898980995113, 38.918333428094826, 81.94655784791593, 99.95837272132941, 58.931461065220915, 42.92095895552004, 66.93671212007135, 37.91767704623852, 62.93408659264614, 90.95246528462266, 59.932117447077225, 13.901923881687214, 20.906518554681345, 86.94983975719745, 72.94065041120918, 31.913738755100695, 1.8940472994115582, 81.94655784791593, 18.905205790968736, 73.9413067930655, 41.92030257366374, 11.900611117974604, 0.8933909175552537, 89.95180890276636, 88.95115252091006, -0.10726546430105088, 40.91964619180744, 15.903236645399822, 93.95443443019158, 96.95640357576049, 65.93605573821505, 23.90848770025026, 16.903893027256128, 89.95180890276636, 12.901267499830908, -0.10726546430105088, 63.93474297450244, 95.95574719390419, 97.95705995761679, 11.900611117974604, 40.91964619180744, 46.923584482945266, 77.9439323204907, 19.90586217282504, 88.95115252091006, 28.91176960953178, 63.93474297450244, 74.9419631749218, 11.900611117974604, 24.909144082106565, 27.91111322767548, 29.912425991388087, 64.93539935635874, 58.931461065220915, 63.93474297450244, 52.927522774083094, 70.93933764749657, 96.95640357576049, 72.94065041120918, 8.89864197240569, 11.900611117974604, 62.93408659264614, 98.9577163394731, 59.932117447077225, 34.91570790066961, 1.8940472994115582, 59.932117447077225, 31.913738755100695, 93.95443443019158, 83.94787061162853, 62.93408659264614, 21.90717493653765, 80.94590146605962, 92.95377804833528, 32.914395136957, 6.8973292086930815, 41.92030257366374, 45.92292810108896, 53.9281791559394, 15.903236645399822, 48.92489724665787, 42.92095895552004, 94.95509081204789, 65.93605573821505, 20.906518554681345, 34.91570790066961, 79.94524508420331, 36.91702066438222, 53.9281791559394, 55.92949191965201, 0.8933909175552537, 31.913738755100695, 57.93080468336461, 31.913738755100695, 45.92292810108896, 71.93999402935287, 16.903893027256128, 96.95640357576049, 92.95377804833528, 90.95246528462266, 36.91702066438222, 3.8953600631241674, 53.9281791559394, 50.92621001037048, 26.910456845819173, 45.92292810108896, 91.95312166647896, 72.94065041120918, 76.9432759386344, 90.95246528462266, 60.93277382893353, 98.9577163394731, 3.8953600631241674, 71.93999402935287, 18.905205790968736, 56.93014830150831, 77.9439323204907, 25.909800463962867, 73.9413067930655, 89.95180890276636, 65.93605573821505, 12.901267499830908, 39.91898980995113, 76.9432759386344, 66.93671212007135, 74.9419631749218, 22.907831318393953, 44.922271719232654, 58.931461065220915, 43.92161533737635, 22.907831318393953, 54.9288355377957, 54.9288355377957, 94.95509081204789, 11.900611117974604, 3.8953600631241674, 6.8973292086930815, 99.95837272132941, 47.92424086480157, 41.92030257366374, 95.95574719390419, 38.918333428094826, 99.95837272132941, 86.94983975719745, 13.901923881687214, 13.901923881687214, 36.91702066438222, 4.8960164449804715, 87.95049613905375, 90.95246528462266, 64.93539935635874, 73.9413067930655, 55.92949191965201, 15.903236645399822, 4.8960164449804715, 27.91111322767548, 91.95312166647896, 45.92292810108896, 53.9281791559394, 38.918333428094826, 43.92161533737635, 30.91308237324439, 67.93736850192766, 85.94918337534114, 89.95180890276636, 37.91767704623852, 20.906518554681345, 94.95509081204789, 55.92949191965201, 59.932117447077225, 64.93539935635874, 77.9439323204907, 88.95115252091006, 5.8966728268367765, 66.93671212007135, 35.91636428252591, 15.903236645399822, 99.95837272132941, 44.922271719232654, 72.94065041120918, 56.93014830150831, 19.90586217282504, 75.9426195567781, 33.91505151881331, 54.9288355377957, 71.93999402935287, 54.9288355377957, 7.897985590549386, 55.92949191965201, 71.93999402935287, 57.93080468336461, 5.8966728268367765, 95.95574719390419, 22.907831318393953, 57.93080468336461, 22.907831318393953, 18.905205790968736, 24.909144082106565, 63.93474297450244, 20.906518554681345, 58.931461065220915, 18.905205790968736, 15.903236645399822, 41.92030257366374, 42.92095895552004, 60.93277382893353, 91.95312166647896, 10.8999547361183, 40.91964619180744, 0.8933909175552537, 7.897985590549386, 70.93933764749657, 45.92292810108896, 54.9288355377957, 61.93343021078983, 46.923584482945266]\n"
          ],
          "name": "stdout"
        }
      ]
    }
  ]
}